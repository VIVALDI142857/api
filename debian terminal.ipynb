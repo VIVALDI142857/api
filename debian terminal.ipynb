{
 "cells": [
  {
   "cell_type": "code",
   "execution_count": null,
   "metadata": {
    "vscode": {
     "languageId": "ini"
    }
   },
   "outputs": [],
   "source": [
    "# Обновление списка пакетов и установка зависимостей\n",
    "sudo apt update\n",
    "sudo apt upgrade -y\n",
    "\n",
    "# Установка Python и pip (если еще не установлены)\n",
    "sudo apt install python3 python3-pip python3-dev -y\n",
    "\n",
    "# Установка Conda (если еще не установлен)\n",
    "# В этом примере мы скачиваем и устанавливаем Anaconda\n",
    "# Скачиваем инсталлятор Anaconda\n",
    "wget https://repo.anaconda.com/archive/Anaconda3-2023.03-1-Linux-x86_64.sh\n",
    "\n",
    "# Даем права на выполнение для инсталлятора\n",
    "chmod +x Anaconda3-2023.03-1-Linux-x86_64.sh\n",
    "\n",
    "# Запускаем установку Anaconda\n",
    "./Anaconda3-2023.03-1-Linux-x86_64.sh\n",
    "\n",
    "# Следуем инструкциям на экране, принимаем лицензионное соглашение\n",
    "# Выбираем путь установки по умолчанию или указываем свой\n",
    "\n",
    "# Завершаем установку\n",
    "source ~/.bashrc  # Обновляем bashrc, чтобы Anaconda была доступна из терминала\n",
    "\n",
    "# Создаем новое виртуальное окружение для ML\n",
    "conda create -n mlflow_env python=3.8 -y\n",
    "\n",
    "# Активируем виртуальное окружение\n",
    "conda activate mlflow_env\n",
    "\n",
    "# Установка необходимых пакетов\n",
    "conda install jupyter -y  # Устанавливаем Jupyter Notebook\n",
    "\n",
    "# Установка ML Flow для работы с моделями (если необходимо)\n",
    "conda install -c conda-forge mlflow -y\n",
    "\n",
    "# Убедимся, что SSH сервер установлен и работает\n",
    "\n",
    "# Проверяем статус SSH сервера\n",
    "sudo systemctl status ssh\n",
    "\n",
    "# Если SSH не установлен или не запущен, установим его и запустим\n",
    "sudo apt install openssh-server -y  # Устанавливаем SSH сервер\n",
    "sudo systemctl enable ssh  # Включаем автоматический запуск SSH при старте системы\n",
    "sudo systemctl start ssh   # Запускаем SSH сервер\n",
    "\n",
    "# Запускаем Jupyter Notebook на сервере\n",
    "jupyter notebook --no-browser --port=8888\n",
    "\n",
    "# На этом этапе сервер работает, но не откроет браузер автоматически.\n",
    "# Необходимо настроить SSH туннель для удаленного доступа к Jupyter.\n",
    "\n",
    "# Открываем новый терминал на локальном компьютере и создаем SSH туннель\n",
    "# Важно: Замените \"vivaldi@192.168.1.104\" на ваш логин и IP сервера\n",
    "ssh -L 8888:localhost:8888 vivaldi@192.168.1.104\n",
    "\n",
    "# После того как SSH туннель настроен, откройте браузер и перейдите по адресу:\n",
    "# http://localhost:8888\n",
    "\n",
    "# Введите токен безопасности, который будет отображен в терминале, где запущен Jupyter.\n",
    "# Пример токена:\n",
    "# http://localhost:8888/?token=abcd1234xyz\n",
    "\n",
    "# Теперь вы можете использовать Jupyter Notebook для работы с кодом на сервере через браузер.\n"
   ]
  }
 ],
 "metadata": {
  "language_info": {
   "name": "python"
  }
 },
 "nbformat": 4,
 "nbformat_minor": 2
}
